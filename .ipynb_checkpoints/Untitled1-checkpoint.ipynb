{
 "cells": [
  {
   "cell_type": "code",
   "execution_count": 1,
   "metadata": {},
   "outputs": [
    {
     "data": {
      "text/plain": [
       "False"
      ]
     },
     "execution_count": 1,
     "metadata": {},
     "output_type": "execute_result"
    }
   ],
   "source": [
    "5==9"
   ]
  },
  {
   "cell_type": "code",
   "execution_count": 2,
   "metadata": {},
   "outputs": [
    {
     "data": {
      "text/plain": [
       "True"
      ]
     },
     "execution_count": 2,
     "metadata": {},
     "output_type": "execute_result"
    }
   ],
   "source": [
    "9==9"
   ]
  },
  {
   "cell_type": "code",
   "execution_count": 3,
   "metadata": {},
   "outputs": [
    {
     "data": {
      "text/plain": [
       "False"
      ]
     },
     "execution_count": 3,
     "metadata": {},
     "output_type": "execute_result"
    }
   ],
   "source": [
    "\"python\" == \"Python\""
   ]
  },
  {
   "cell_type": "code",
   "execution_count": 21,
   "metadata": {},
   "outputs": [
    {
     "name": "stdout",
     "output_type": "stream",
     "text": [
      "Masukkan angka 45\n",
      "Kurang\n"
     ]
    }
   ],
   "source": [
    "a = int(input(\"Masukkan angka \"))\n",
    "if(a==50 or a==60):\n",
    "    print(\"Nilai sama dengan \", a)\n",
    "elif(a<50):\n",
    "    print(\"Kurang\")\n",
    "else:\n",
    "    print(\"Ini berlebih\")"
   ]
  },
  {
   "cell_type": "code",
   "execution_count": 16,
   "metadata": {},
   "outputs": [
    {
     "data": {
      "text/plain": [
       "range(5, 9)"
      ]
     },
     "execution_count": 16,
     "metadata": {},
     "output_type": "execute_result"
    }
   ],
   "source": [
    "range(5,9)"
   ]
  },
  {
   "cell_type": "code",
   "execution_count": 32,
   "metadata": {},
   "outputs": [
    {
     "name": "stdout",
     "output_type": "stream",
     "text": [
      "angka 5\n"
     ]
    }
   ],
   "source": [
    "for i in range(5, 9, 4):\n",
    "    print(\"angka\", i)"
   ]
  },
  {
   "cell_type": "code",
   "execution_count": 34,
   "metadata": {},
   "outputs": [
    {
     "name": "stdout",
     "output_type": "stream",
     "text": [
      "dinul\n",
      "destri\n",
      "jessi\n"
     ]
    }
   ],
   "source": [
    "list1 = ['dinul', 'destri', 'jessi']\n",
    "for i in range(len(list1)):\n",
    "    print(list1[i])"
   ]
  },
  {
   "cell_type": "code",
   "execution_count": 41,
   "metadata": {},
   "outputs": [],
   "source": [
    "def tampilnama():\n",
    "    list1 = ['dinul', 'destri', 'jessi']\n",
    "    for i in range(len(list1)):\n",
    "        print(list1[i])"
   ]
  },
  {
   "cell_type": "code",
   "execution_count": 42,
   "metadata": {},
   "outputs": [
    {
     "name": "stdout",
     "output_type": "stream",
     "text": [
      "dinul\n",
      "destri\n",
      "jessi\n",
      "None\n"
     ]
    }
   ],
   "source": [
    "print(tampilnama())"
   ]
  },
  {
   "cell_type": "code",
   "execution_count": 47,
   "metadata": {},
   "outputs": [
    {
     "name": "stdout",
     "output_type": "stream",
     "text": [
      "[5, 7, 8, 9, 10, 11, 20]\n"
     ]
    }
   ],
   "source": [
    "def BubbleSort(val):\n",
    "    for inum in range (len(val)-1,0,-1):\n",
    "        for i in range(inum):\n",
    "            if val[i]>val[i+1]:\n",
    "                temp = val[i]\n",
    "                val[i] = val[i+1]\n",
    "                val[i+1] = temp\n",
    "                \n",
    "List_Experiment = [7,5,8,9,10,20,11]\n",
    "BubbleSort(List_Experiment)\n",
    "print(List_Experiment)"
   ]
  },
  {
   "cell_type": "code",
   "execution_count": null,
   "metadata": {},
   "outputs": [],
   "source": []
  }
 ],
 "metadata": {
  "kernelspec": {
   "display_name": "Python 3",
   "language": "python",
   "name": "python3"
  },
  "language_info": {
   "codemirror_mode": {
    "name": "ipython",
    "version": 3
   },
   "file_extension": ".py",
   "mimetype": "text/x-python",
   "name": "python",
   "nbconvert_exporter": "python",
   "pygments_lexer": "ipython3",
   "version": "3.7.2"
  }
 },
 "nbformat": 4,
 "nbformat_minor": 2
}
